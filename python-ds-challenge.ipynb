import random
import matplotlib.pyplot as plt
def gen_random_queen():
    gen_queens_list = []
    flag=1
    while flag == 1:
        n = random.randint(1,8)
        if n not in gen_queens_list:
            gen_queens_list.append(n)
        size=len(gen_queens_list)
        if size == 8:
            flag = 0
    #print(gen_queens_list)
    return gen_queens_list

def gen_vertical():
	vert=[]
	k=0.5
	for i in range(1,9):
		vert.append(k)
		k=k+1
	return vert

#y=[0.5,4.5,7.5,5.5,2.5,6.5,1.5,3.5]
def gen_horizontal(horizon):
	horizon_y=[]
	for j in horizon:
		if j == 1:
			y1=0.5
		elif j == 5:
			y2=4.5
		elif j == 8:
			y3=7.5
		elif j == 6:
			y4=5.5
		elif j == 3:
			y5=2.5
		elif j == 7:
			y6=6.5
		elif j == 2:
			y7=1.5
		elif j == 4:
			y8=3.5
	horizon_y=[y1,y2,y3,y4,y5,y6,y7,y8]
	return horizon_y	

def place_queens(x,y):
	plt.scatter(x,y,c='red',s=50)
	plt.title("8 Queens in the 8 * 8 Chess Board ")
	plt.xlabel("Horizontal")
	plt.ylabel("Vertical")
	plt.show()  

if __name__ == '__main__':
	queens=gen_random_queen()
	#print(queens)
	x=gen_vertical()
	#print(x)
	y=gen_horizontal(queens)
	place_queens(x,y)
